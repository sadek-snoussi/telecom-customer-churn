{
 "cells": [
  {
   "cell_type": "code",
   "execution_count": 1,
   "id": "782069e7",
   "metadata": {},
   "outputs": [],
   "source": [
    "import pandas as pd\n",
    "\n",
    "# Data set path\n",
    "data_path = \"C:/Users/Sadek/Documents/GitHub/Project/telecom-customer-churn/data/\"\n",
    "\n",
    "# Import telecom data set into a pandas data frame\n",
    "df_telecom = pd.read_csv(data_path+\"WA_Fn-UseC_-Telco-Customer-Churn.csv\")\n",
    "\n",
    "# Drop non relevant features\n",
    "df_telecom.drop(columns=[\"customerID\", \"gender\", \"TotalCharges\"], inplace=True)\n",
    "\n",
    "target_name = \"Churn\"\n",
    "target = df_telecom[target_name]\n",
    "data = df_telecom.drop(columns=[target_name])"
   ]
  },
  {
   "cell_type": "code",
   "execution_count": 2,
   "id": "9e8e4ca9",
   "metadata": {
    "scrolled": false
   },
   "outputs": [
    {
     "data": {
      "image/png": "[encoded data removed]",
      "text/plain": [
       "<Figure size 640x480 with 1 Axes>"
      ]
     },
     "metadata": {},
     "output_type": "display_data"
    }
   ],
   "source": [
    "import matplotlib.pyplot as plt\n",
    "\n",
    "target.value_counts().plot.barh()\n",
    "plt.xlabel(\"Number of samples\")\n",
    "_ = plt.title(\"Number of samples per classes present\\n in the target\")"
   ]
  },
  {
   "cell_type": "markdown",
   "id": "727aea56",
   "metadata": {},
   "source": [
    "Based on the value counts of the target variable, it appears that there are 2000 samples that have a value of \"yes\" for the \"Churn\" column, which represents clients that have churned. There are also 5000 samples that have a value of \"no\" for the \"Churn\" column, which represents clients that have not churned. "
   ]
  },
  {
   "cell_type": "code",
   "execution_count": 3,
   "id": "92096981",
   "metadata": {},
   "outputs": [],
   "source": [
    "from sklearn.compose import make_column_selector as selector\n",
    "\n",
    "numerical_columns_selector = selector(dtype_exclude=object)\n",
    "categorical_columns_selector = selector(dtype_include=object)\n",
    "\n",
    "numerical_columns = numerical_columns_selector(data)\n",
    "categorical_columns = categorical_columns_selector(data)"
   ]
  },
  {
   "cell_type": "code",
   "execution_count": 4,
   "id": "3c3d7551",
   "metadata": {},
   "outputs": [],
   "source": [
    "from sklearn.pipeline import Pipeline\n",
    "from sklearn.preprocessing import StandardScaler, OneHotEncoder\n",
    "\n",
    "# Preprocessing for numerical data\n",
    "numerical_transformer = Pipeline(steps=[\n",
    "    ('scaler', StandardScaler())\n",
    "])\n",
    "\n",
    "# Preprocessing for categorical data\n",
    "categorical_transformer = Pipeline(steps=[\n",
    "    ('onehot', OneHotEncoder(handle_unknown='ignore'))\n",
    "])"
   ]
  },
  {
   "cell_type": "code",
   "execution_count": 5,
   "id": "49b8ea5a",
   "metadata": {},
   "outputs": [],
   "source": [
    "from sklearn.compose import ColumnTransformer\n",
    "\n",
    "preprocessor = ColumnTransformer(transformers=[\n",
    "    ('num', numerical_transformer, numerical_columns),\n",
    "    ('cat', categorical_transformer, categorical_columns)\n",
    "])"
   ]
  },
  {
   "cell_type": "code",
   "execution_count": 6,
   "id": "820c3689",
   "metadata": {},
   "outputs": [],
   "source": [
    "import sklearn\n",
    "sklearn.set_config(display=\"diagram\")"
   ]
  },
  {
   "cell_type": "code",
   "execution_count": 7,
   "id": "93d95df5",
   "metadata": {},
   "outputs": [
    {
     "ename": "TypeError",
     "evalue": "cross_val_score() got an unexpected keyword argument 'random_state'",
     "output_type": "error",
     "traceback": [
      "\u001b[1;31m---------------------------------------------------------------------------\u001b[0m",
      "\u001b[1;31mTypeError\u001b[0m                                 Traceback (most recent call last)",
      "Input \u001b[1;32mIn [7]\u001b[0m, in \u001b[0;36m<cell line: 14>\u001b[1;34m()\u001b[0m\n\u001b[0;32m      9\u001b[0m dummy_classifier \u001b[38;5;241m=\u001b[39m DummyClassifier(strategy\u001b[38;5;241m=\u001b[39m\u001b[38;5;124m'\u001b[39m\u001b[38;5;124mmost_frequent\u001b[39m\u001b[38;5;124m'\u001b[39m)\n\u001b[0;32m     10\u001b[0m dummy_classifier \u001b[38;5;241m=\u001b[39m Pipeline([\n\u001b[0;32m     11\u001b[0m     (\u001b[38;5;124m\"\u001b[39m\u001b[38;5;124mpreprocessor\u001b[39m\u001b[38;5;124m\"\u001b[39m, preprocessor),\n\u001b[0;32m     12\u001b[0m     (\u001b[38;5;124m\"\u001b[39m\u001b[38;5;124mclassifier\u001b[39m\u001b[38;5;124m\"\u001b[39m, dummy_classifier)\n\u001b[0;32m     13\u001b[0m ])\n\u001b[1;32m---> 14\u001b[0m imbanced_dummy_scores \u001b[38;5;241m=\u001b[39m \u001b[43mcross_val_score\u001b[49m\u001b[43m(\u001b[49m\u001b[43mdummy_classifier\u001b[49m\u001b[43m,\u001b[49m\u001b[43m \u001b[49m\u001b[43mdata\u001b[49m\u001b[43m,\u001b[49m\u001b[43m \u001b[49m\u001b[43mtarget\u001b[49m\u001b[43m,\u001b[49m\u001b[43m \u001b[49m\u001b[43mcv\u001b[49m\u001b[38;5;241;43m=\u001b[39;49m\u001b[43mshuffle_split\u001b[49m\u001b[43m,\u001b[49m\u001b[43m \u001b[49m\u001b[43mrandom_state\u001b[49m\u001b[38;5;241;43m=\u001b[39;49m\u001b[38;5;241;43m42\u001b[39;49m\u001b[43m)\u001b[49m\n\u001b[0;32m     16\u001b[0m \u001b[38;5;66;03m# Calculate the mean and standard deviation of the dummy classifier's scores\u001b[39;00m\n\u001b[0;32m     17\u001b[0m dummy_mean \u001b[38;5;241m=\u001b[39m imbanced_dummy_scores\u001b[38;5;241m.\u001b[39mmean()\n",
      "\u001b[1;31mTypeError\u001b[0m: cross_val_score() got an unexpected keyword argument 'random_state'"
     ]
    }
   ],
   "source": [
    "from sklearn.model_selection import ShuffleSplit, cross_val_score\n",
    "from sklearn.dummy import DummyClassifier\n",
    "from sklearn.linear_model import LogisticRegression\n",
    "\n",
    "# First, create a ShuffleSplit object with a specific number of splits and test size\n",
    "shuffle_split = ShuffleSplit(n_splits=10, test_size=0.3, random_state=42)\n",
    "\n",
    "# Next, train a dummy classifier using cross validation and the ShuffleSplit object\n",
    "dummy_classifier = DummyClassifier(strategy='most_frequent')\n",
    "dummy_classifier = Pipeline([\n",
    "    (\"preprocessor\", preprocessor),\n",
    "    (\"classifier\", dummy_classifier)\n",
    "])\n",
    "imbanced_dummy_scores = cross_val_score(dummy_classifier, data, target, cv=shuffle_split, random_state)\n",
    "\n",
    "# Calculate the mean and standard deviation of the dummy classifier's scores\n",
    "dummy_mean = imbanced_dummy_scores.mean()\n",
    "dummy_std = imbanced_dummy_scores.std()\n",
    "\n",
    "# Print the dummy classifier's mean and standard deviation\n",
    "# print(f\"Dummy classifier mean accuracy: {dummy_mean:.4f}\")\n",
    "# print(f\"Dummy classifier standard deviation: {dummy_std:.4f}\")\n",
    "print(\"Dummy classifier Accuracy: %.2f%% - Standard Deviation(%.3f%%)\" % (dummy_mean*100, dummy_std))\n",
    "\n",
    "# Train a logistic regression classifier using cross validation and the ShuffleSplit object\n",
    "logistic_regression = LogisticRegression(random_state=42)\n",
    "logistic_regression = Pipeline([\n",
    "    (\"preprocessor\", preprocessor),\n",
    "    (\"classifier\", logistic_regression)\n",
    "])\n",
    "imbanced_logistic_scores = cross_val_score(logistic_regression, data, target, cv=shuffle_split)\n",
    "\n",
    "# Calculate the mean and standard deviation of the logistic regression classifier's scores\n",
    "logistic_mean = imbanced_logistic_scores.mean()\n",
    "logistic_std = imbanced_logistic_scores.std()\n",
    "\n",
    "# Print the logistic regression classifier's mean and standard deviation\n",
    "# print(f\"Logistic regression classifier mean accuracy: {logistic_mean:.4f}\")\n",
    "# print(f\"Logistic regression classifier standard deviation: {logistic_std:.4f}\")\n",
    "print(\"Logistic regression classifier Accuracy: %.2f%% - Standard Deviation(%.3f%%)\" % (logistic_mean*100, logistic_std))"
   ]
  },
  {
   "cell_type": "code",
   "execution_count": null,
   "id": "4ccb8765",
   "metadata": {},
   "outputs": [],
   "source": [
    "test_score_logistic_regression = pd.Series(\n",
    "    imbanced_logistic_scores, name=\"Logistic Regression (Imbalanced Data)\"\n",
    ")\n",
    "\n",
    "test_score_most_frequent = pd.Series(\n",
    "    imbanced_dummy_scores, name=\"Most Frequent Class Predictor\"\n",
    ")\n",
    "\n",
    "test_scores_imbalanced_data = pd.concat(\n",
    "    [test_score_logistic_regression, test_score_most_frequent],\n",
    "    axis='columns',\n",
    ")\n",
    "\n",
    "# print(test_scores_imbalanced_data)\n",
    "\n",
    "import numpy as np\n",
    "\n",
    "bins = np.linspace(start=0.5, stop=1.0, num=100)\n",
    "test_scores_imbalanced_data.plot.hist(bins=bins, edgecolor=\"black\")\n",
    "plt.legend(bbox_to_anchor=(1.05, 0.8), loc=\"upper left\")\n",
    "plt.xlabel(\"Accuracy (%)\")\n",
    "_ = plt.title(\"Distribution of the CV scores\")\n",
    "plt.show()"
   ]
  },
  {
   "cell_type": "markdown",
   "id": "a62cdc07",
   "metadata": {},
   "source": [
    "Using sampling_strategy='minority' would be a good choice for balancing the data when using the Synthetic Minority Over-sampling Technique (SMOTE) algorithm. This strategy will oversample the minority class in the data set so that it has an equal number of samples as the majority class. This can help balance the class distribution and improve the performance of a classifier trained on the balanced data set.\n",
    "\n",
    "Also, it's generally best to use the 'stratified' strategy for the DummyClassifier. This will ensure that the class distribution is the same in both the training and test sets, which will make the results more comparable. With the 'most_frequent' strategy, the DummyClassifier will always predict the majority class, so it would not be a fair comparison with a classifier that uses SMOTE to balance the data."
   ]
  },
  {
   "cell_type": "code",
   "execution_count": null,
   "id": "270a4dfd",
   "metadata": {
    "scrolled": true
   },
   "outputs": [],
   "source": [
    "from imblearn.pipeline import Pipeline as SMOTE_Pipeline\n",
    "from imblearn.over_sampling import SMOTE\n",
    "\n",
    "dummy_classifier = SMOTE_Pipeline(steps=[('preprocessor', preprocessor),\n",
    "                                        ('smote', SMOTE(sampling_strategy='minority')),\n",
    "                                        ('model', DummyClassifier(strategy='stratified'))])\n",
    "\n",
    "# Create a ShuffleSplit object with a specific number of splits and test size\n",
    "# shuffle_split = ShuffleSplit(n_splits=5, test_size=0.3, random_state=42)\n",
    "\n",
    "# Train a dummy classifier using cross validation and the ShuffleSplit object\n",
    "# dummy_classifier = DummyClassifier(strategy='most_frequent')\n",
    "dummy_scores = cross_val_score(dummy_classifier, data, target, cv=shuffle_split)\n",
    "\n",
    "# Calculate the mean and standard deviation of the dummy classifier's scores\n",
    "dummy_mean = dummy_scores.mean()\n",
    "dummy_std = dummy_scores.std()\n",
    "\n",
    "# Print the dummy classifier's mean and standard deviation\n",
    "# print(f\"Dummy classifier mean accuracy: {dummy_mean:.4f}\")\n",
    "# print(f\"Dummy classifier standard deviation: {dummy_std:.4f}\")\n",
    "print(\"Dummy classifier Accuracy: %.2f%% - Standard Deviation(%.3f%%)\" % (dummy_mean*100, dummy_std))\n",
    "\n",
    "\n",
    "logistic_regression = SMOTE_Pipeline(steps=[('preprocessor', preprocessor),\n",
    "                                        ('smote', SMOTE(sampling_strategy='minority')),\n",
    "                                        ('model', LogisticRegression(random_state=42))])\n",
    "\n",
    "# Train a logistic regression classifier using cross validation and the ShuffleSplit object\n",
    "# logistic_regression = LogisticRegression(random_state=42)\n",
    "logistic_scores = cross_val_score(logistic_regression, data, target, cv=shuffle_split)\n",
    "\n",
    "# Calculate the mean and standard deviation of the logistic regression classifier's scores\n",
    "logistic_mean = logistic_scores.mean()\n",
    "logistic_std = logistic_scores.std()\n",
    "\n",
    "# Print the logistic regression classifier's mean and standard deviation\n",
    "# print(f\"Logistic regression classifier mean accuracy: {logistic_mean:.4f}\")\n",
    "# print(f\"Logistic regression classifier standard deviation: {logistic_std:.4f}\")\n",
    "print(\"Logistic regression classifier Accuracy: %.2f%% - Standard Deviation(%.3f%%)\" % (logistic_mean*100, logistic_std))"
   ]
  },
  {
   "cell_type": "code",
   "execution_count": null,
   "id": "e192d16e",
   "metadata": {},
   "outputs": [],
   "source": [
    "logistic_regression"
   ]
  },
  {
   "cell_type": "code",
   "execution_count": null,
   "id": "eaa583a7",
   "metadata": {},
   "outputs": [],
   "source": [
    "test_score_logistic_regression = pd.Series(\n",
    "    logistic_scores, name=\"Logistic Regression (Balanced Data)\"\n",
    ")\n",
    "\n",
    "test_score_stratified = pd.Series(\n",
    "    dummy_scores, name=\"Ramdomnly predicted class (Balanced Data)\"\n",
    ")\n",
    "\n",
    "all_test_scores = pd.concat(\n",
    "    [test_scores_imbalanced_data, test_score_logistic_regression, test_score_stratified],\n",
    "    axis='columns',\n",
    ")\n",
    "\n",
    "bins = np.linspace(start=0.5, stop=1.0, num=100)\n",
    "all_test_scores.plot.hist(bins=bins, edgecolor=\"black\")\n",
    "plt.legend(bbox_to_anchor=(1.05, 0.8), loc=\"upper left\")\n",
    "plt.xlabel(\"Accuracy (%)\")\n",
    "_ = plt.title(\"Distribution of the CV scores\")\n",
    "plt.show()"
   ]
  }
 ],
 "metadata": {
  "kernelspec": {
   "display_name": "Python 3 (ipykernel)",
   "language": "python",
   "name": "python3"
  },
  "language_info": {
   "codemirror_mode": {
    "name": "ipython",
    "version": 3
   },
   "file_extension": ".py",
   "mimetype": "text/x-python",
   "name": "python",
   "nbconvert_exporter": "python",
   "pygments_lexer": "ipython3",
   "version": "3.9.13"
  }
 },
 "nbformat": 4,
 "nbformat_minor": 5
}
